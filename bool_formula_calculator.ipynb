{
 "cells": [
  {
   "cell_type": "code",
   "execution_count": 1,
   "metadata": {
    "collapsed": true
   },
   "outputs": [],
   "source": [
    "import pandas as pd"
   ]
  },
  {
   "cell_type": "code",
   "execution_count": 2,
   "outputs": [],
   "source": [
    "all_notes = ['(',')','~','*','+','->']\n",
    "operaters = ['~','*','+','->']"
   ],
   "metadata": {
    "collapsed": false
   }
  },
  {
   "cell_type": "code",
   "execution_count": 3,
   "outputs": [],
   "source": [
    "def f_not(a):\n",
    "    return int(not(a))\n",
    "\n",
    "def f_or(a,b):\n",
    "    return int(a==1 or b==1)\n",
    "\n",
    "def f_and(a,b):\n",
    "    return int(a==1 and b==1)\n",
    "\n",
    "def f_condition(a,b):\n",
    "    return int(not(a==1 and b==0))\n",
    "\n",
    "def calcu(note_list,para_list):\n",
    "    note = note_list.pop()\n",
    "    a = para_list.pop()\n",
    "    if note == '~':\n",
    "        para_list.append(f_not(a))\n",
    "        return\n",
    "    b = para_list.pop()\n",
    "    if note == '*':\n",
    "        para_list.append(f_and(b,a))\n",
    "    elif note == '+':\n",
    "        para_list.append(f_or(b,a))\n",
    "    elif note == '->':\n",
    "        para_list.append(f_condition(b,a))"
   ],
   "metadata": {
    "collapsed": false
   }
  },
  {
   "cell_type": "code",
   "execution_count": 4,
   "outputs": [],
   "source": [
    "def calculate_formula(formula_str, para_value_map):\n",
    "    note_tree = []\n",
    "    para_stack = []\n",
    "    note_point = note_tree\n",
    "    outer_note_tree = note_tree\n",
    "    note_prior = operaters\n",
    "    i = 0\n",
    "    while i < len(formula_str):\n",
    "        s = formula_str[i]\n",
    "        # 处理特殊符号（或、与）\n",
    "        if s == '\\\\' and formula_str[i+1] == '/':\n",
    "            s = '+'\n",
    "            i += 1\n",
    "        elif s == '/' and formula_str[i+1] == '\\\\':\n",
    "            s = '*'\n",
    "            i += 1\n",
    "        elif s == '-' and formula_str[i+1] == '>':\n",
    "            s = '->'\n",
    "            i += 1\n",
    "        # 处理括号\n",
    "        if s == '(':\n",
    "            inter_note_tree = []\n",
    "            note_point.append(inter_note_tree)\n",
    "            outer_note_tree = note_point\n",
    "            note_point = inter_note_tree\n",
    "        elif s ==')':\n",
    "            while len(note_point)!=0:\n",
    "                calcu(note_point,para_stack)\n",
    "                # print(' ','\\t',para_stack,'\\t',note_tree)\n",
    "            note_point = outer_note_tree\n",
    "            note_point.pop()\n",
    "        elif s in note_prior:\n",
    "            if len(note_point) == 0:\n",
    "                note_point.append(s)\n",
    "                i += 1\n",
    "                continue\n",
    "            if note_prior.index(s) < note_prior.index(note_prior[-1]):\n",
    "                note_point.append(s)\n",
    "            else:\n",
    "                calcu(note_point,para_stack)\n",
    "                note_point.append(s)\n",
    "        else:\n",
    "            para_stack.append(para_value_map[s])\n",
    "        i += 1\n",
    "        # print(s,'\\t',para_stack,'\\t',note_tree)\n",
    "    # print(note_point,len(note_point))\n",
    "    while len(note_point)!=0:\n",
    "        calcu(note_point,para_stack)\n",
    "        # print(' ','\\t',para_stack,'\\t',note_tree)\n",
    "    return para_stack.pop()"
   ],
   "metadata": {
    "collapsed": false
   }
  },
  {
   "cell_type": "code",
   "execution_count": 5,
   "outputs": [],
   "source": [
    "def extract_para(formula):\n",
    "    notes = all_notes\n",
    "    para_list = []\n",
    "    for s in formula:\n",
    "        if s not in notes and s not in para_list and s not in ['\\\\','/','-','>']:\n",
    "            para_list.append(s)\n",
    "    return para_list\n",
    "\n",
    "def extract_child_formula(formula):\n",
    "    pre_probe = []\n",
    "    post_probe = []\n",
    "    child_formulas = []\n",
    "    for i in range(len(formula)):\n",
    "        if formula[i] == '(':\n",
    "            pre_probe.append(i)\n",
    "        elif formula[i] == ')':\n",
    "            post_probe.append(i)\n",
    "    while len(pre_probe) != 0:\n",
    "        child_formulas.append(formula[pre_probe.pop(0):post_probe.pop(0)+1])\n",
    "    child_formulas.append(formula)\n",
    "    return child_formulas\n",
    "\n",
    "def create_true_value(paras):\n",
    "    times = 2**len(paras)\n",
    "    true_values = []\n",
    "    for i in range(times):\n",
    "        this_time_values = []\n",
    "        b = f'{i:0{len(paras)}b}'\n",
    "        for s in b:\n",
    "            this_time_values.append(int(s))\n",
    "        true_values.append(this_time_values)\n",
    "    return true_values"
   ],
   "metadata": {
    "collapsed": false
   }
  },
  {
   "cell_type": "code",
   "execution_count": 6,
   "outputs": [],
   "source": [
    "def calcu_with_all_true_value(paras,child_formulas):\n",
    "    true_values = create_true_value(paras)\n",
    "    ans_values = []\n",
    "    for t_v in true_values:\n",
    "        pvm = dict(zip(paras,t_v))\n",
    "        this_time_values = []\n",
    "        for i in range(len(child_formulas)):\n",
    "            c_f = child_formulas[i]\n",
    "            this_time_result = calculate_formula(c_f,pvm)\n",
    "            this_time_values.append(this_time_result)\n",
    "        t_v.extend(this_time_values)\n",
    "        ans_values.append(t_v)\n",
    "    return ans_values"
   ],
   "metadata": {
    "collapsed": false
   }
  },
  {
   "cell_type": "code",
   "execution_count": 8,
   "outputs": [],
   "source": [
    "def draw_true_value_table(formula):\n",
    "    paras = extract_para(formula)\n",
    "    child_formulas = extract_child_formula(formula)\n",
    "    ans = calcu_with_all_true_value(paras,child_formulas)\n",
    "    column_name = paras\n",
    "    column_name.extend(child_formulas)\n",
    "    result_table = pd.DataFrame(ans,columns=column_name)\n",
    "    print(result_table)"
   ],
   "metadata": {
    "collapsed": false
   }
  },
  {
   "cell_type": "code",
   "execution_count": 9,
   "outputs": [
    {
     "name": "stdout",
     "output_type": "stream",
     "text": [
      "   A  B  C  (A/\\B)  (A/\\B)->C\n",
      "0  0  0  0       0          1\n",
      "1  0  0  1       0          1\n",
      "2  0  1  0       0          1\n",
      "3  0  1  1       0          1\n",
      "4  1  0  0       0          1\n",
      "5  1  0  1       0          1\n",
      "6  1  1  0       1          0\n",
      "7  1  1  1       1          1\n"
     ]
    }
   ],
   "source": [
    "formula = '(A/\\B)->C'\n",
    "draw_true_value_table(formula)"
   ],
   "metadata": {
    "collapsed": false
   }
  }
 ],
 "metadata": {
  "kernelspec": {
   "display_name": "Python 3",
   "language": "python",
   "name": "python3"
  },
  "language_info": {
   "codemirror_mode": {
    "name": "ipython",
    "version": 2
   },
   "file_extension": ".py",
   "mimetype": "text/x-python",
   "name": "python",
   "nbconvert_exporter": "python",
   "pygments_lexer": "ipython2",
   "version": "2.7.6"
  }
 },
 "nbformat": 4,
 "nbformat_minor": 0
}
